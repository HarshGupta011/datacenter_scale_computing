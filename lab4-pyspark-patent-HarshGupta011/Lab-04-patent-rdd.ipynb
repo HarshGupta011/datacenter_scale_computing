{
 "cells": [
  {
   "cell_type": "markdown",
   "metadata": {},
   "source": [
    "# CSCI 4253 / 5253 - Lab #4 - Patent Problem with Spark RDD - SOLUTION\n",
    "<div>\n",
    " <h2> CSCI 4283 / 5253 \n",
    "  <IMG SRC=\"https://www.colorado.edu/cs/profiles/express/themes/cuspirit/logo.png\" WIDTH=50 ALIGN=\"right\"/> </h2>\n",
    "</div>"
   ]
  },
  {
   "cell_type": "markdown",
   "metadata": {},
   "source": [
    "This [Spark cheatsheet](https://s3.amazonaws.com/assets.datacamp.com/blog_assets/PySpark_SQL_Cheat_Sheet_Python.pdf) is useful"
   ]
  },
  {
   "cell_type": "code",
   "execution_count": 1,
   "metadata": {},
   "outputs": [],
   "source": [
    "from pyspark import SparkContext, SparkConf\n",
    "import numpy as np\n",
    "import operator"
   ]
  },
  {
   "cell_type": "code",
   "execution_count": 2,
   "metadata": {},
   "outputs": [],
   "source": [
    "conf=SparkConf().setAppName(\"Lab4-rdd\").setMaster(\"local[*]\")\n",
    "sc = SparkContext(conf=conf)"
   ]
  },
  {
   "cell_type": "markdown",
   "metadata": {},
   "source": [
    "Using PySpark and RDD's on the https://coding.csel.io machines is slow -- most of the code is executed in Python and this is much less efficient than the java-based code using the PySpark dataframes. Be patient and trying using `.cache()` to cache the output of joins. You may want to start with a reduced set of data before running the full task. You can use the `sample()` method to extract just a sample of the data or use "
   ]
  },
  {
   "cell_type": "markdown",
   "metadata": {},
   "source": [
    "These two RDD's are called \"rawCitations\" and \"rawPatents\" because you probably want to process them futher (e.g. convert them to integer types, etc). \n",
    "\n",
    "The `textFile` function returns data in strings. This should work fine for this lab.\n",
    "\n",
    "Other methods you use might return data in type `Byte`. If you haven't used Python `Byte` types before, google it. You can convert a value of `x` type byte into e.g. a UTF8 string using `x.decode('uft-8')`. Alternatively, you can use the `open` method of the gzip library to read in all the lines as UTF-8 strings like this:\n",
    "```\n",
    "import gzip\n",
    "with gzip.open('cite75_99.txt.gz', 'rt',encoding='utf-8') as f:\n",
    "    rddCitations = sc.parallelize( f.readlines() )\n",
    "```\n",
    "This is less efficient than using `textFile` because `textFile` would use the underlying HDFS or other file system to read the file across all the worker nodes while the using `gzip.open()...readlines()` will read all the data in the frontend and then distribute it to all the worker nodes."
   ]
  },
  {
   "cell_type": "code",
   "execution_count": 3,
   "metadata": {},
   "outputs": [],
   "source": [
    "rddCitations = sc.textFile(\"cite75_99.txt.gz\")\n",
    "rddPatents = sc.textFile(\"apat63_99.txt.gz\")"
   ]
  },
  {
   "cell_type": "code",
   "execution_count": 4,
   "metadata": {},
   "outputs": [],
   "source": [
    "# rddCitations = sc.textFile(\"cite75_99.txt.gz\").sample(fraction = 0.1,withReplacement = False).cache()\n",
    "# rddPatents = sc.textFile(\"apat63_99.txt.gz\").sample(fraction = 0.1,withReplacement = False).cache()"
   ]
  },
  {
   "cell_type": "markdown",
   "metadata": {},
   "source": [
    "The data looks like the following."
   ]
  },
  {
   "cell_type": "code",
   "execution_count": 5,
   "metadata": {},
   "outputs": [],
   "source": [
    "rddCitations.take(5)"
   ]
  },
  {
   "cell_type": "code",
   "execution_count": 6,
   "metadata": {},
   "outputs": [],
   "source": [
    "rddPatents.take(5)"
   ]
  },
  {
   "cell_type": "code",
   "execution_count": 7,
   "metadata": {},
   "outputs": [],
   "source": [
    "# Run on full dataset to remove headers \n",
    "citationheaders = rddCitations.first()\n",
    "rddCitations =  rddCitations.filter(lambda line: line != citationheaders)\n",
    "\n",
    "patentheaders = rddPatents.first()  \n",
    "rddPatents =  rddPatents.filter(lambda line: line != patentheaders)\n"
   ]
  },
  {
   "cell_type": "markdown",
   "metadata": {},
   "source": [
    "In other words, they are a single string with multiple CSV's. You will need to convert these to (K,V) pairs, probably convert the keys to `int` and so on. You'll need to `filter` out the header string as well since there's no easy way to extract all the lines except the first."
   ]
  },
  {
   "cell_type": "code",
   "execution_count": null,
   "metadata": {},
   "outputs": [],
   "source": [
    "# Removing headers from the datasets and turining into key value pairs"
   ]
  },
  {
   "cell_type": "code",
   "execution_count": 8,
   "metadata": {},
   "outputs": [],
   "source": [
    "rddPatentsSplitColumns = rddPatents.map(lambda x: x.split(','))\n",
    "\n",
    "kvpatents = rddPatentsSplitColumns.map(lambda x: (int(x[0]), list(x[1:])))\n",
    "\n",
    "rddCitationsSplitColumns = rddCitations.map(lambda x: x.split(','))\n",
    "\n",
    "kvcitingtocited = rddCitationsSplitColumns.map(lambda x: (int(x[0]), [(int(x[1]))]))"
   ]
  },
  {
   "cell_type": "code",
   "execution_count": 1,
   "metadata": {},
   "outputs": [],
   "source": [
    "#Joining patents to citations. Filtering out United States citations and removing NaN or Null values.\n",
    "#Selecting Patents, citations and state\n"
   ]
  },
  {
   "cell_type": "code",
   "execution_count": 9,
   "metadata": {},
   "outputs": [],
   "source": [
    "patents_citing_join = kvpatents.leftOuterJoin(kvcitingtocited)"
   ]
  },
  {
   "cell_type": "code",
   "execution_count": 11,
   "metadata": {},
   "outputs": [],
   "source": [
    "patents_citing_join = patents_citing_join.filter(lambda line: line[1][0][3] == '\"US\"' and line[1][0][4] != '\"\"' and line[1][1] != None)\n"
   ]
  },
  {
   "cell_type": "code",
   "execution_count": 12,
   "metadata": {},
   "outputs": [],
   "source": [
    "patents_citing_join = patents_citing_join.map(lambda line: (line[0],[line[1][0][4],line[1][1][0]]))"
   ]
  },
  {
   "cell_type": "code",
   "execution_count": 13,
   "metadata": {},
   "outputs": [
    {
     "data": {
      "text/plain": [
       "[(3874228, ['\"CA\"', 2404584]),\n",
       " (3874228, ['\"CA\"', 3308654]),\n",
       " (3880572, ['\"MA\"', 2972937]),\n",
       " (3880572, ['\"MA\"', 3585417]),\n",
       " (3880572, ['\"MA\"', 3732058])]"
      ]
     },
     "execution_count": 13,
     "metadata": {},
     "output_type": "execute_result"
    }
   ],
   "source": [
    "patents_citing_join.take(5)\n",
    "# Citing, [CitingState, Cited]\n",
    "# make cited as key join with patents and get the cited state"
   ]
  },
  {
   "cell_type": "code",
   "execution_count": 14,
   "metadata": {},
   "outputs": [],
   "source": [
    "patents_citing_join_keyiscited = patents_citing_join.map(lambda line: (line[1][1],[line[0],line[1][0]]))"
   ]
  },
  {
   "cell_type": "code",
   "execution_count": null,
   "metadata": {},
   "outputs": [
    {
     "data": {
      "text/plain": [
       "[(2404584, [3874228, '\"CA\"']),\n",
       " (3308654, [3874228, '\"CA\"']),\n",
       " (2972937, [3880572, '\"MA\"']),\n",
       " (3585417, [3880572, '\"MA\"']),\n",
       " (3732058, [3880572, '\"MA\"'])]"
      ]
     },
     "execution_count": 15,
     "metadata": {},
     "output_type": "execute_result"
    }
   ],
   "source": [
    "patents_citing_join_keyiscited.take(5)\n",
    "# Cited,[Citing, CitingState]"
   ]
  },
  {
   "cell_type": "code",
   "execution_count": null,
   "metadata": {},
   "outputs": [],
   "source": [
    "#Joining again to get cited columns and perform similar filtering as above"
   ]
  },
  {
   "cell_type": "code",
   "execution_count": null,
   "metadata": {},
   "outputs": [],
   "source": [
    "patents_citing_join2 = patents_citing_join_keyiscited.leftOuterJoin(kvpatents)"
   ]
  },
  {
   "cell_type": "code",
   "execution_count": null,
   "metadata": {},
   "outputs": [],
   "source": [
    "patents_citing_join2 = patents_citing_join2.filter(lambda line: line[1][1] != None and line[1][1][3] == '\"US\"' and line[1][1][4] != '\"\"' and line[1][0][1] == line[1][1][4])\n",
    "\n"
   ]
  },
  {
   "cell_type": "code",
   "execution_count": null,
   "metadata": {},
   "outputs": [],
   "source": [
    "citing_state_cited_state = patents_citing_join2.map(lambda line: (line[1][0][0],[line[1][0][1],line[0],line[1][1][4]]))"
   ]
  },
  {
   "cell_type": "code",
   "execution_count": null,
   "metadata": {},
   "outputs": [
    {
     "data": {
      "text/plain": [
       "[(4009122,\n",
       "  ([5137647, '\"CT\"'],\n",
       "   ['1977',\n",
       "    '6262',\n",
       "    '1975',\n",
       "    '\"US\"',\n",
       "    '\"CT\"',\n",
       "    '417130',\n",
       "    '2',\n",
       "    '22',\n",
       "    '502',\n",
       "    '1',\n",
       "    '19',\n",
       "    '2',\n",
       "    '21',\n",
       "    '1',\n",
       "    '0.771',\n",
       "    '0',\n",
       "    '11.9524',\n",
       "    '8',\n",
       "    '0',\n",
       "    '0',\n",
       "    '0',\n",
       "    '0']))]"
      ]
     },
     "execution_count": 20,
     "metadata": {},
     "output_type": "execute_result"
    }
   ],
   "source": [
    "patents_citing_join2.take(1)"
   ]
  },
  {
   "cell_type": "code",
   "execution_count": null,
   "metadata": {},
   "outputs": [
    {
     "data": {
      "text/plain": [
       "[(5137647, ['\"CT\"', 4009122, '\"CT\"']),\n",
       " (4889647, ['\"CT\"', 4009122, '\"CT\"']),\n",
       " (4284442, ['\"NJ\"', 3798090, '\"NJ\"']),\n",
       " (5520756, ['\"NJ\"', 3798090, '\"NJ\"']),\n",
       " (4672450, ['\"CA\"', 4254435, '\"CA\"'])]"
      ]
     },
     "execution_count": 21,
     "metadata": {},
     "output_type": "execute_result"
    }
   ],
   "source": [
    "citing_state_cited_state.take(5)"
   ]
  },
  {
   "cell_type": "code",
   "execution_count": 3,
   "metadata": {},
   "outputs": [],
   "source": [
    "#Getting count of same state citations"
   ]
  },
  {
   "cell_type": "code",
   "execution_count": null,
   "metadata": {},
   "outputs": [],
   "source": [
    "citing_countCited = citing_state_cited_state.groupByKey().mapValues(len)"
   ]
  },
  {
   "cell_type": "code",
   "execution_count": null,
   "metadata": {},
   "outputs": [],
   "source": [
    "#Final Join to get the columns as needed in the final output"
   ]
  },
  {
   "cell_type": "code",
   "execution_count": null,
   "metadata": {},
   "outputs": [],
   "source": [
    "newPatents = kvpatents.join(citing_countCited)"
   ]
  },
  {
   "cell_type": "code",
   "execution_count": null,
   "metadata": {},
   "outputs": [],
   "source": [
    "newPatents = newPatents.map(lambda line: (line[0],line[1][0]+[line[1][1]])).cache()"
   ]
  },
  {
   "cell_type": "code",
   "execution_count": null,
   "metadata": {},
   "outputs": [
    {
     "name": "stdout",
     "output_type": "stream",
     "text": [
      "(3877552, ['1975', '5583', '1973', '\"US\"', '\"CA\"', '260265', '2', '16', '188', '5', '53', '5', '7', '0.8', '0.4898', '0.625', '10.8571', '11', '0', '0', '0', '0', 2])\n",
      "(3952280, ['1976', '5954', '1974', '\"US\"', '\"CA\"', '180110', '2', '5', '367', '2', '21', '5', '2', '0.8', '0', '0.5', '10.5', '10.4', '0', '0', '0', '0', 1])\n",
      "(3965632, ['1976', '6024', '1975', '\"US\"', '\"IL\"', '461175', '2', '18', '52', '6', '69', '8', '2', '1', '0.5', '0.2188', '11', '6.75', '0', '0', '0', '0', 2])\n",
      "(3971976, ['1976', '6052', '1975', '\"US\"', '\"MA\"', '357270', '2', '31', '363', '4', '45', '5', '2', '0.6', '0.5', '0.4444', '3', '15.8', '0.5', '0.2', '0', '0', 1])\n",
      "(3972516, ['1976', '6059', '1975', '\"US\"', '\"PA\"', '154480', '2', '10', '266', '5', '52', '8', '4', '0.75', '0', '0.7222', '20.75', '11.5', '0', '0', '0', '0', 3])\n"
     ]
    }
   ],
   "source": [
    "for line in newPatents.take(5):\n",
    "    print(line)"
   ]
  },
  {
   "cell_type": "code",
   "execution_count": 4,
   "metadata": {},
   "outputs": [],
   "source": [
    "#Sorted in descending order"
   ]
  },
  {
   "cell_type": "code",
   "execution_count": null,
   "metadata": {},
   "outputs": [],
   "source": [
    "newPatentsSorted = newPatents.sortBy(lambda x: x[1][22], False)"
   ]
  },
  {
   "cell_type": "code",
   "execution_count": null,
   "metadata": {},
   "outputs": [
    {
     "name": "stdout",
     "output_type": "stream",
     "text": [
      "(5959466, ['1999', '14515', '1997', '\"US\"', '\"CA\"', '5310', '2', '', '326', '4', '46', '159', '0', '1', '', '0.6186', '', '4.8868', '0.0455', '0.044', '', '', 125])\n",
      "(5983822, ['1999', '14564', '1998', '\"US\"', '\"TX\"', '569900', '2', '', '114', '5', '55', '200', '0', '0.995', '', '0.7201', '', '12.45', '0', '0', '', '', 103])\n",
      "(6008204, ['1999', '14606', '1998', '\"US\"', '\"CA\"', '749584', '2', '', '514', '3', '31', '121', '0', '1', '', '0.7415', '', '5', '0.0085', '0.0083', '', '', 100])\n",
      "(5952345, ['1999', '14501', '1997', '\"US\"', '\"CA\"', '749584', '2', '', '514', '3', '31', '118', '0', '1', '', '0.7442', '', '5.1102', '0', '0', '', '', 98])\n",
      "(5958954, ['1999', '14515', '1997', '\"US\"', '\"CA\"', '749584', '2', '', '514', '3', '31', '116', '0', '1', '', '0.7397', '', '5.181', '0', '0', '', '', 96])\n",
      "(5998655, ['1999', '14585', '1998', '\"US\"', '\"CA\"', '', '1', '', '560', '1', '14', '114', '0', '1', '', '0.7387', '', '5.1667', '', '', '', '', 96])\n",
      "(5936426, ['1999', '14466', '1997', '\"US\"', '\"CA\"', '5310', '2', '', '326', '4', '46', '178', '0', '1', '', '0.58', '', '11.2303', '0.0765', '0.073', '', '', 94])\n",
      "(5739256, ['1998', '13983', '1995', '\"US\"', '\"CA\"', '70060', '2', '15', '528', '1', '15', '453', '0', '1', '', '0.8232', '', '15.1104', '0.1124', '0.1082', '', '', 90])\n",
      "(5978329, ['1999', '14550', '1995', '\"US\"', '\"CA\"', '148925', '2', '', '369', '2', '24', '145', '0', '1', '', '0.5449', '', '12.9241', '0.4196', '0.4138', '', '', 90])\n",
      "(5980517, ['1999', '14557', '1998', '\"US\"', '\"CA\"', '733846', '2', '', '606', '3', '32', '241', '0', '1', '', '0.7394', '', '8.3776', '0', '0', '', '', 90])\n"
     ]
    }
   ],
   "source": [
    "for line in newPatentsSorted.take(10):\n",
    "    print(line)"
   ]
  }
 ],
 "metadata": {
  "kernelspec": {
   "display_name": "Python 3 (ipykernel)",
   "language": "python",
   "name": "python3"
  },
  "language_info": {
   "codemirror_mode": {
    "name": "ipython",
    "version": 3
   },
   "file_extension": ".py",
   "mimetype": "text/x-python",
   "name": "python",
   "nbconvert_exporter": "python",
   "pygments_lexer": "ipython3",
   "version": "3.10.5"
  }
 },
 "nbformat": 4,
 "nbformat_minor": 4
}
